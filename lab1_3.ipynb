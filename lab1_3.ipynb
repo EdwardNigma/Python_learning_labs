{
 "cells": [
  {
   "cell_type": "markdown",
   "metadata": {},
   "source": [
    "## Логический тип\n",
    "Логический тип данных (или boolean) – это примитивный тип данных, который принимает одно из двух возможных значений: истину (true) или ложь (false). Этот тип присутствует во многих языках программирования и используется для построения алгоритмов.\n",
    "\n",
    "Название этого типа данных (Boolean) всегда пишется с заглавной буквы, поскольку этот тип назван в честь математика Джорджа Буля, который занимался вопросами математической логики. Значения True и False тоже пишутся с большой буквы, так как в Python они являются специальными значениями.\n",
    "\n",
    "Многие математические операции можно расценивать как истинные или ложные:"
   ]
  },
  {
   "cell_type": "code",
   "execution_count": 1,
   "metadata": {},
   "outputs": [
    {
     "name": "stdout",
     "output_type": "stream",
     "text": [
      "True\n",
      "False\n",
      "True\n",
      "False\n",
      "True\n",
      "False\n"
     ]
    }
   ],
   "source": [
    "print(500 > 100)\n",
    "my_bool = 1 > 5\n",
    "print(my_bool)\n",
    "print(200 < 400)\n",
    "print(4 < 2) \n",
    "print(5 == 5)\n",
    "print(500 == 400)"
   ]
  },
  {
   "cell_type": "code",
   "execution_count": 2,
   "metadata": {},
   "outputs": [
    {
     "data": {
      "text/plain": [
       "True"
      ]
     },
     "execution_count": 2,
     "metadata": {},
     "output_type": "execute_result"
    }
   ],
   "source": [
    "500 > 100 \n",
    "5 == 5"
   ]
  },
  {
   "cell_type": "markdown",
   "metadata": {},
   "source": [
    "## Строки\n",
    "Строка представляет собой последовательность из одного или нескольких символов (букв, цифр и других символов), которые могут быть постоянными или переменными. В Python cтроки обозначаются одинарными (‘) или двойными кавычками («). Чтобы создать строку, заключите последовательность символов в кавычки:"
   ]
  },
  {
   "cell_type": "code",
   "execution_count": 3,
   "metadata": {},
   "outputs": [
    {
     "name": "stdout",
     "output_type": "stream",
     "text": [
      "Hello, World!\n",
      "Hello, World!\n"
     ]
    }
   ],
   "source": [
    "print(\"Hello, World!\")\n",
    "hw = 'Hello, World!'\n",
    "print(hw)"
   ]
  },
  {
   "cell_type": "markdown",
   "metadata": {},
   "source": [
    "# Структуры данных"
   ]
  },
  {
   "cell_type": "markdown",
   "metadata": {},
   "source": [
    "## Списки\n",
    "Список (list) – это структура данных для хранения объектов различных типов. Cписок очень похож на массив, но в нем можно хранить объекты различных типов. Размер списка не статичен, его можно изменять. Список по своей природе является изменяемым типом данных. Переменная, определяемая как список, содержит ссылку на структуру в памяти, которая в свою очередь хранит ссылки на какие-либо другие объекты или структуры."
   ]
  },
  {
   "cell_type": "code",
   "execution_count": 4,
   "metadata": {},
   "outputs": [
    {
     "data": {
      "text/plain": [
       "['с', 'п', 'и', 'с', 'о', 'к']"
      ]
     },
     "execution_count": 4,
     "metadata": {},
     "output_type": "execute_result"
    }
   ],
   "source": [
    "list('список')"
   ]
  },
  {
   "cell_type": "code",
   "execution_count": 5,
   "metadata": {},
   "outputs": [
    {
     "data": {
      "text/plain": [
       "list"
      ]
     },
     "execution_count": 5,
     "metadata": {},
     "output_type": "execute_result"
    }
   ],
   "source": [
    "a = []\n",
    "type(a)"
   ]
  },
  {
   "cell_type": "code",
   "execution_count": 6,
   "metadata": {},
   "outputs": [
    {
     "data": {
      "text/plain": [
       "list"
      ]
     },
     "execution_count": 6,
     "metadata": {},
     "output_type": "execute_result"
    }
   ],
   "source": [
    "b = list()\n",
    "type(b)"
   ]
  },
  {
   "cell_type": "code",
   "execution_count": 7,
   "metadata": {},
   "outputs": [
    {
     "name": "stdout",
     "output_type": "stream",
     "text": [
      "[1, 3, 5, 7]\n",
      "[1, 3, 5, 7]\n"
     ]
    }
   ],
   "source": [
    "a = [1, 3, 5, 7]\n",
    "b = a[:]\n",
    "print(a)\n",
    "print(b)"
   ]
  },
  {
   "cell_type": "markdown",
   "metadata": {},
   "source": [
    "Почувствуйте разницу"
   ]
  },
  {
   "cell_type": "code",
   "execution_count": 8,
   "metadata": {},
   "outputs": [
    {
     "name": "stdout",
     "output_type": "stream",
     "text": [
      "[1, 4, 6, 8]\n",
      "[1, 4, 6, 8]\n"
     ]
    }
   ],
   "source": [
    "a = [4, 8, 6, 1]\n",
    "b = a\n",
    "a.sort()\n",
    "print(a)\n",
    "print(b)"
   ]
  },
  {
   "cell_type": "code",
   "execution_count": 9,
   "metadata": {},
   "outputs": [
    {
     "name": "stdout",
     "output_type": "stream",
     "text": [
      "[1, 4, 6, 8]\n",
      "[4, 8, 6, 1]\n"
     ]
    }
   ],
   "source": [
    "a = [4, 8, 6, 1]\n",
    "b = a[:]\n",
    "a.sort()\n",
    "print(a)\n",
    "print(b)"
   ]
  },
  {
   "cell_type": "markdown",
   "metadata": {},
   "source": [
    "***Задание 1*** \n",
    "\n",
    "Объясните причину получения разных результатов. \n",
    "\n",
    "Дело в то, что .... знак двоеточия делает срез исходного массива (создает новый и записывает его в новую переменную).\n",
    "Простое присваивание по типу b = a записывает в переменную b ссылку на a, в которой хранится ссылка на список."
   ]
  },
  {
   "cell_type": "markdown",
   "metadata": {},
   "source": [
    "### Методы списков\n",
    "\n",
    "Метод |\tЧто делает\n",
    ":-------|:--------\n",
    "list.append(x)| Добавляет элемент в конец списка\n",
    "list.extend(L)| Расширяет список list, добавляя в конец все элементы списка L\n",
    "list.insert(i, x)|\tВставляет на i-ый элемент значение x\n",
    "list.remove(x)| Удаляет первый элемент в списке, имеющий значение x. ValueError, если такого элемента не существует\n",
    "list.pop([i])| Удаляет i-ый элемент и возвращает его. Если индекс не указан, удаляется последний элемент\n",
    "list.index(x, [start [, end]])| Возвращает положение первого элемента со значением x (при этом поиск ведется от start до end)\n",
    "list.count(x)|\tВозвращает количество элементов со значением x\n",
    "list.sort([key=функция])| Сортирует список на основе функции\n",
    "list.reverse()| Разворачивает список\n",
    "list.copy()|\tПоверхностная копия списка\n",
    "list.clear()| Очищает список"
   ]
  },
  {
   "cell_type": "markdown",
   "metadata": {},
   "source": [
    "# Кортежи\n",
    "Кортеж (tuple) позволяет группировать данные. Кортеж – это неизменяемая упорядоченная последовательность элементов.\n",
    "\n",
    "Кортежи очень похожи на списки, но вместо квадратных скобок они используют круглые скобки. Кроме того данные этого типа нельзя изменять.\n",
    "\n",
    "Кортеж имеет такой вид:"
   ]
  },
  {
   "cell_type": "code",
   "execution_count": 1,
   "metadata": {},
   "outputs": [
    {
     "name": "stdout",
     "output_type": "stream",
     "text": [
      "name\n",
      "email\n",
      "password\n"
     ]
    }
   ],
   "source": [
    "mytuple = (\"name\",  \"email\",  \"password\")\n",
    "for i in mytuple:  \n",
    "    print(i)"
   ]
  },
  {
   "cell_type": "markdown",
   "metadata": {},
   "source": [
    "Сравните списки и кортежи"
   ]
  },
  {
   "cell_type": "code",
   "execution_count": 2,
   "metadata": {},
   "outputs": [
    {
     "name": "stdout",
     "output_type": "stream",
     "text": [
      "72\n",
      "88\n"
     ]
    }
   ],
   "source": [
    "a = (1, 2, 3, 4, 5, 6)\n",
    "b = [1, 2, 3, 4, 5, 6]\n",
    "print(a.__sizeof__())\n",
    "print(b.__sizeof__())"
   ]
  },
  {
   "cell_type": "markdown",
   "metadata": {},
   "source": [
    "# Словари \n",
    "Словарь (dict) представляет собой структуру данных (которая ещё называется ассоциативный массив), предназначенную для хранения произвольных объектов с доступом по ключу. Данные в словаре хранятся в формате ключ – значение. Если вспомнить такую структуру как список, то доступ к его элементам осуществляется по индексу, который представляет собой целое неотрицательное число, причем мы сами, непосредственно, не участвуем в его создании (индекса). В словаре аналогом индекса является ключ, при этом ответственность за его формирование ложится на программиста.\n"
   ]
  },
  {
   "cell_type": "code",
   "execution_count": 3,
   "metadata": {},
   "outputs": [
    {
     "name": "stdout",
     "output_type": "stream",
     "text": [
      "<class 'dict'>\n"
     ]
    }
   ],
   "source": [
    "d1 = dict()\n",
    "print(type(d1))"
   ]
  },
  {
   "cell_type": "code",
   "execution_count": 4,
   "metadata": {},
   "outputs": [
    {
     "name": "stdout",
     "output_type": "stream",
     "text": [
      "<class 'dict'>\n"
     ]
    }
   ],
   "source": [
    "d2 = {}\n",
    "print(type(d2))"
   ]
  },
  {
   "cell_type": "code",
   "execution_count": 5,
   "metadata": {},
   "outputs": [],
   "source": [
    "# Другой пример\n",
    "gender_dict = {0: 'муж',\n",
    "               1: 'жен'}"
   ]
  },
  {
   "cell_type": "code",
   "execution_count": 6,
   "metadata": {},
   "outputs": [],
   "source": [
    "# Другой пример\n",
    "dictionary = {'персона': 'человек',\n",
    "              'марафон': 'гонка бегунов длиной около 26 миль',\n",
    "              'противостоять': 'оставаться сильным, несмотря на давление',\n",
    "              'бежать': 'двигаться со скоростью'}"
   ]
  },
  {
   "cell_type": "code",
   "execution_count": 7,
   "metadata": {},
   "outputs": [
    {
     "data": {
      "text/plain": [
       "'гонка бегунов длиной около 26 миль'"
      ]
     },
     "execution_count": 7,
     "metadata": {},
     "output_type": "execute_result"
    }
   ],
   "source": [
    "# Получение данных из словаря по ключу\\\n",
    "\n",
    "dictionary['марафон']"
   ]
  },
  {
   "cell_type": "code",
   "execution_count": 8,
   "metadata": {},
   "outputs": [
    {
     "data": {
      "text/plain": [
       "'род обуви, закрывающей ногу не выше щиколотки'"
      ]
     },
     "execution_count": 8,
     "metadata": {},
     "output_type": "execute_result"
    }
   ],
   "source": [
    "# Добавление новых пар \n",
    "dictionary['туфля'] = 'род обуви, закрывающей ногу не выше щиколотки'\n",
    "dictionary['туфля']"
   ]
  },
  {
   "cell_type": "markdown",
   "metadata": {},
   "source": [
    "[**Полная информация о структурах данных**]( https://docs.python.org/3/tutorial/datastructures.html#)"
   ]
  },
  {
   "cell_type": "markdown",
   "metadata": {},
   "source": [
    "***Задание 2*** \n",
    "\n",
    "Создайте и заполните список из ста числовых элементов, воспользовавшись функцией [random]( https://docs.python.org/3/library/random.html). Выведите на экран элементы списка \n",
    "\n",
    "\n",
    "1)\tНайдите сумму и произведение элементов списка. Результаты выведите на экран. \n",
    "\n",
    "2)\tНайдите наибольший элемент списка и выведите его на экран.\n",
    "\n",
    "3)\tОпределите, есть ли в списке повторяющиеся элементы, если да, то выведите на экран все повторяющиеся значения с указанием количества повторений.\n",
    "\n",
    "4)\tПоменяйте местами самый большой и самый маленький элементы исходного списка. Выведите на экран элементы нового списка. \n"
   ]
  },
  {
   "cell_type": "code",
   "execution_count": 1,
   "metadata": {},
   "outputs": [
    {
     "name": "stdout",
     "output_type": "stream",
     "text": [
      "мой список:\n",
      " [22, 9, 25, 23, 30, 26, 30, 5, 7, 11, 16, 11, 21, 16, 13, 16, 8, 25, 15, 9, 18, 19, 9, 23, 7, 30, 13, 18, 16, 1, 24, 11, 22, 12, 27, 16, 19, 21, 30, 24, 26, 28, 25, 8, 14, 19, 22, 9, 11, 8, 7, 14, 20, 26, 18, 5, 20, 10, 4, 5, 5, 11, 20, 3, 28, 17, 7, 27, 15, 26, 3, 19, 14, 17, 8, 14, 9, 6, 6, 17, 27, 20, 4, 16, 25, 24, 5, 9, 16, 21, 7, 26, 20, 23, 19, 25, 20, 6, 3, 23]\n",
      "сумма:  1608\n",
      "произведение:  203095851056041846222533475661439922920286009695031051071695227015466809916671351848960000000000000000000000000000\n",
      "максимальное значение:  30\n",
      "число:  22   кол-во раз:  3\n",
      "число:  9   кол-во раз:  6\n",
      "число:  25   кол-во раз:  5\n",
      "число:  23   кол-во раз:  4\n",
      "число:  30   кол-во раз:  4\n",
      "число:  26   кол-во раз:  5\n",
      "число:  5   кол-во раз:  5\n",
      "число:  7   кол-во раз:  5\n",
      "число:  11   кол-во раз:  5\n",
      "число:  16   кол-во раз:  7\n",
      "число:  21   кол-во раз:  3\n",
      "число:  13   кол-во раз:  2\n",
      "число:  8   кол-во раз:  4\n",
      "число:  15   кол-во раз:  2\n",
      "число:  18   кол-во раз:  3\n",
      "число:  19   кол-во раз:  5\n",
      "число:  24   кол-во раз:  3\n",
      "число:  27   кол-во раз:  3\n",
      "число:  28   кол-во раз:  2\n",
      "число:  14   кол-во раз:  4\n",
      "число:  20   кол-во раз:  6\n",
      "число:  4   кол-во раз:  2\n",
      "число:  3   кол-во раз:  3\n",
      "число:  17   кол-во раз:  3\n",
      "число:  6   кол-во раз:  3\n",
      "макс индекс:  4\n",
      "мин индекс:  29\n",
      "новый список:  [22, 9, 25, 23, 1, 26, 30, 5, 7, 11, 16, 11, 21, 16, 13, 16, 8, 25, 15, 9, 18, 19, 9, 23, 7, 30, 13, 18, 16, 30, 24, 11, 22, 12, 27, 16, 19, 21, 30, 24, 26, 28, 25, 8, 14, 19, 22, 9, 11, 8, 7, 14, 20, 26, 18, 5, 20, 10, 4, 5, 5, 11, 20, 3, 28, 17, 7, 27, 15, 26, 3, 19, 14, 17, 8, 14, 9, 6, 6, 17, 27, 20, 4, 16, 25, 24, 5, 9, 16, 21, 7, 26, 20, 23, 19, 25, 20, 6, 3, 23]\n"
     ]
    }
   ],
   "source": [
    "f = open('my_file.txt', 'w')\n",
    "import random\n",
    "\n",
    "my_list = list()\n",
    "for i in range(100):\n",
    "    my_list.append(random.randint(1, 30))\n",
    "print(\"мой список:\\n\", my_list)\n",
    "\n",
    "f.write(\"мой список:\\n\")\n",
    "for index in my_list:\n",
    "    f.write(str(index) + \" \")\n",
    "f.write(\"\\n\")\n",
    "#_________________________________\n",
    "\n",
    "my_sum = 0 \n",
    "multipl = 1\n",
    "for i in my_list:\n",
    "    my_sum += i\n",
    "    multipl *= i\n",
    "print(\"сумма: \", my_sum)\n",
    "print(\"произведение: \", multipl)\n",
    "\n",
    "f.write(\"cумма: \" + str(my_sum) + \"\\n\")\n",
    "f.write(\"произведение: \" + str(multipl) + \"\\n\")\n",
    "#__________________________________\n",
    "\n",
    "def max_number(some_list):\n",
    "    max_num = some_list[1]\n",
    "    for i in some_list:\n",
    "        if (max_num < i):\n",
    "            max_num = i\n",
    "        else: \n",
    "            continue\n",
    "    print(\"максимальное значение: \", max_num)\n",
    "    return max_num\n",
    "    \n",
    "max_n = max_number(my_list)\n",
    "\n",
    "f.write(\"максимальное значение: \" + str(max_n) + \"\\n\")\n",
    "#______________________________________\n",
    "\n",
    "def rep_num(some_list):\n",
    "    dict_of_rep = {}\n",
    "    for i in some_list:\n",
    "        if (i not in dict_of_rep):\n",
    "            dict_of_rep[i] = 1\n",
    "        else:\n",
    "            dict_of_rep[i] += 1\n",
    "    return dict_of_rep\n",
    "\n",
    "dictionary = rep_num(my_list)\n",
    "for number, count in dictionary.items():\n",
    "    if (count > 1):\n",
    "        print(\"число: \", number, \"  кол-во раз: \", count)   \n",
    "        f.write(\"число: \" + str(number) + \" \" + \"кол-во раз: \" + str(count) + \"\\n\")\n",
    "#_______________________________________________________\n",
    "        \n",
    "def max_ind(some_list):\n",
    "    max_num = some_list[1]\n",
    "    index = 0\n",
    "    for i in range(len(some_list)):\n",
    "        if (max_num < some_list[i]):\n",
    "            max_num = some_list[i]\n",
    "            index = i \n",
    "        else: \n",
    "            continue\n",
    "    print(\"макс индекс: \", index)\n",
    "    return index\n",
    "\n",
    "def min_ind(some_list):\n",
    "    min_num = some_list[1]\n",
    "    index = 0\n",
    "    for i in range(len(some_list)):\n",
    "        if (min_num > some_list[i]):\n",
    "            min_num = some_list[i]\n",
    "            index = i \n",
    "        else: \n",
    "            continue\n",
    "    print(\"мин индекс: \", index)\n",
    "    return index\n",
    "\n",
    "max_index = max_ind(my_list)\n",
    "min_index = min_ind(my_list)\n",
    "#________________________________\n",
    "\n",
    "def change_elem(some_list, max_i, min_i):\n",
    "    list_copy = some_list[:]\n",
    "    max_number = list_copy[max_i]\n",
    "    min_number = list_copy[min_i]\n",
    "    list_copy[max_i] = min_number\n",
    "    list_copy[min_i] = max_number\n",
    "    print(\"новый список: \", list_copy)\n",
    "    f.write(\"новый список: \" + str(list_copy) + \"\\n\")\n",
    "    \n",
    "change_elem(my_list, max_index, min_index)\n",
    "\n",
    "f.close()"
   ]
  },
  {
   "cell_type": "markdown",
   "metadata": {},
   "source": [
    "***Задание 3*** \n",
    "\n",
    "В сводной таблице собраны данные об объемах продаж за последние три года:\n",
    "\n",
    "Год | 1 |2 |3 |4 |5 |6 |7 |8 |9 |10 |11 |12 \n",
    ":--- | :--- |:--- |:--- |:--- |:--- |:--- |:--- |:--- |:--- |:--- |:--- |:---\n",
    "2016|22000 |190000 |245000 |151000 |98000 |354000 |126000 |124000 |121000 |148237 |252300 |324774\n",
    "2017| 88000 |168446 |137590 |81000 |102000 |321000 |345120 |153010 |320172 |231423 |245100|256484\n",
    "2018| 465000 |285333 |134000 |353000 |136000 |234126 |345600 |352023 |153230 |172000 |412986 |354128\n",
    "\n",
    "1) Выведите на экран месяцы (с указанием года), в которых наблюдались максимальная и минимальная прибыль за весь период\n",
    "\n",
    "2) Выведите периоды по годам, в которых наблюдался стабильный рост продаж \n"
   ]
  },
  {
   "cell_type": "code",
   "execution_count": 15,
   "metadata": {},
   "outputs": [
    {
     "name": "stdout",
     "output_type": "stream",
     "text": [
      "2016 : 354000   22000\n",
      "2017 : 345120   81000\n",
      "2018 : 465000   134000\n",
      "2016 : {('январь', 'март'): [22000, 190000, 245000], ('май', 'июнь'): [98000, 354000], ('сентябрь', 'декабрь'): [121000, 148237, 252300, 324774]}\n",
      "2017 : {('январь', 'февраль'): [88000, 168446], ('апрель', 'июль'): [81000, 102000, 321000, 345120], ('август', 'сентябрь'): [153010, 320172], ('октябрь', 'декабрь'): [231423, 245100, 256484]}\n",
      "2018 : {('март', 'апрель'): [134000, 353000], ('май', 'август'): [136000, 234126, 345600, 352023], ('сентябрь', 'ноябрь'): [153230, 172000, 412986]}\n"
     ]
    }
   ],
   "source": [
    "sales_data = {2016: [22000, 190000, 245000, 151000, 98000, 354000, 126000, 124000, 121000, 148237, 252300, 324774],\n",
    "              2017: [88000, 168446, 137590, 81000, 102000, 321000, 345120, 153010, 320172, 231423, 245100, 256484],\n",
    "              2018: [465000, 285333, 134000, 353000, 136000, 234126, 345600, 352023, 153230, 172000, 412986, 354128]}\n",
    "months = ['январь', 'февраль', 'март', 'апрель', 'май', 'июнь', 'июль', 'август', 'сентябрь', 'октябрь', 'ноябрь', 'декабрь']\n",
    "for i in sales_data:\n",
    "    max_profit = sales_data.get(i)[0]\n",
    "    min_profit = sales_data.get(i)[0]\n",
    "    for profit in sales_data.get(i):\n",
    "        if (max_profit < profit):\n",
    "            max_profit = profit\n",
    "        if (min_profit > profit):\n",
    "            min_profit = profit\n",
    "    print(i, \":\", max_profit, \" \", min_profit)\n",
    "\n",
    "for i in sales_data:\n",
    "    my_dict = {}\n",
    "    current_profit = sales_data.get(i)[0] \n",
    "    current_index = 0\n",
    "    for j in range(1, len(sales_data.get(i))):\n",
    "        if ( sales_data.get(i)[j] > current_profit):\n",
    "            current_profit = sales_data.get(i)[j]\n",
    "        else:\n",
    "            if (len(sales_data.get(i)[current_index : j]) > 1):\n",
    "                my_dict[months[current_index], months[j-1]] = sales_data.get(i)[current_index : j]\n",
    "                current_index = j\n",
    "                current_profit = sales_data.get(i)[j]\n",
    "            else:\n",
    "                current_index = j\n",
    "                current_profit = sales_data.get(i)[j]\n",
    "        if ((j == 11) and (len(sales_data.get(i)[current_index : j]) > 1)):\n",
    "            my_dict[months[current_index], months[j]] = sales_data.get(i)[current_index : j+1]\n",
    "    print(i, \":\", my_dict)"
   ]
  },
  {
   "cell_type": "markdown",
   "metadata": {},
   "source": [
    "**Замечание!**\n",
    "\n",
    "Используйте только [стандартные модули Python]( https://docs.python.org/3/tutorial/modules.html#standard-modules)\n",
    "\n",
    "Для тех, кто только начинает использовать Python: [Синтаксис базовых управляющих конструкций языка (операторы и функции)](https://docs.python.org/3/tutorial/controlflow.html)"
   ]
  },
  {
   "cell_type": "markdown",
   "metadata": {},
   "source": [
    "***Задание 4*** \n",
    "\n",
    "1) Ознакомьтесь с [базовыми инструкциями для работы с файлами](https://docs.python.org/3/tutorial/inputoutput.html#reading-and-writing-files) \n",
    "\n",
    "2) Сохраните все результаты Задания 2 в файл"
   ]
  }
 ],
 "metadata": {
  "kernelspec": {
   "display_name": "Python 3 (ipykernel)",
   "language": "python",
   "name": "python3"
  },
  "language_info": {
   "codemirror_mode": {
    "name": "ipython",
    "version": 3
   },
   "file_extension": ".py",
   "mimetype": "text/x-python",
   "name": "python",
   "nbconvert_exporter": "python",
   "pygments_lexer": "ipython3",
   "version": "3.11.4"
  }
 },
 "nbformat": 4,
 "nbformat_minor": 2
}
